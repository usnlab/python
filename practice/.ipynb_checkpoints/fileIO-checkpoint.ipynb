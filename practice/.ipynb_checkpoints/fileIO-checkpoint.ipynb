{
 "cells": [
  {
   "cell_type": "code",
   "execution_count": 1,
   "id": "94e3f882",
   "metadata": {},
   "outputs": [
    {
     "data": {
      "text/plain": [
       "'C:\\\\Users\\\\MS\\\\Documents\\\\github\\\\python\\\\practice'"
      ]
     },
     "execution_count": 1,
     "metadata": {},
     "output_type": "execute_result"
    }
   ],
   "source": [
    "pwd"
   ]
  },
  {
   "cell_type": "code",
   "execution_count": 55,
   "id": "0e1a3b34",
   "metadata": {},
   "outputs": [],
   "source": [
    "import pandas as pd\n",
    "path = './data/FileIO/'\n",
    "f1 = 'Product_ERP.xlsx'\n",
    "f2 = 'Product_SFDC.xlsx'\n",
    "\n",
    "df1 = pd.read_excel(path+f1)\n",
    "df2 = pd.read_excel(path+f2)\n",
    "df1['Item'] = df1['Item'].astype(str)\n",
    "df2['Item'] = df2['Item'].astype(str)\n",
    "df1.sort_values(by='Item',ascending=True,inplace=True)\n",
    "df2.sort_values(by='Item',ascending=True,inplace=True)\n",
    "\n",
    "df3 = df1[['Item','Description','List Price']].merge(df2[['Item','List Price KRW']],on='Item',how='left')\n",
    "#df3.head()\n",
    "df3.to_excel(path+'Product_Compare.xlsx',index=False)"
   ]
  },
  {
   "cell_type": "code",
   "execution_count": 59,
   "id": "bbb32fb8",
   "metadata": {},
   "outputs": [],
   "source": [
    "import pandas as pd\n",
    "import numpy as np\n",
    "\n",
    "path = './data/FileIO/'\n",
    "f1 = 'Product_ERP.xlsx'\n",
    "f2 = 'Product_SFDC.xlsx'\n",
    "\n",
    "df1 = pd.read_excel(path+f1)\n",
    "df2 = pd.read_excel(path+f2)\n",
    "df1['Item'] = df1['Item'].astype(str)\n",
    "df2['Item'] = df2['Item'].astype(str)\n",
    "df1.sort_values(by='Item',ascending=True,inplace=True)\n",
    "df2.sort_values(by='Item',ascending=True,inplace=True)\n",
    "\n",
    "df3 = df1[['Item','Description','List Price']].merge(df2[['Item','List Price KRW']],on='Item',how='left')\n",
    "df3.insert(4,'Compare',np.nan)\n",
    "\n",
    "writer = pd.ExcelWriter(path+'Formula.xlsx', engine='xlsxwriter')\n",
    "df3.to_excel(writer, sheet_name='Sheet1', index=False)\n",
    "#workbook  = writer.book\n",
    "worksheet = writer.sheets['Sheet1']\n",
    "\n",
    "# Create a for loop to start writing the formulas to each row\n",
    "for row in range(2,df3.shape[0]+2):\n",
    "    formula = f'=if(C{row}=D{row},\"OK\",\"ERROR\")'\n",
    "    worksheet.write_formula(f'E{row}', formula)\n",
    "\n",
    "writer.save()\n",
    "writer.close()"
   ]
  },
  {
   "cell_type": "code",
   "execution_count": null,
   "id": "f1842d66",
   "metadata": {},
   "outputs": [],
   "source": []
  }
 ],
 "metadata": {
  "kernelspec": {
   "display_name": "Python 3 (ipykernel)",
   "language": "python",
   "name": "python3"
  },
  "language_info": {
   "codemirror_mode": {
    "name": "ipython",
    "version": 3
   },
   "file_extension": ".py",
   "mimetype": "text/x-python",
   "name": "python",
   "nbconvert_exporter": "python",
   "pygments_lexer": "ipython3",
   "version": "3.8.12"
  }
 },
 "nbformat": 4,
 "nbformat_minor": 5
}
