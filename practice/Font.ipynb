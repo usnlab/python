{
 "cells": [
  {
   "cell_type": "code",
   "execution_count": 1,
   "metadata": {},
   "outputs": [],
   "source": [
    "!jt -tf droidsans"
   ]
  },
  {
   "cell_type": "code",
   "execution_count": 1,
   "metadata": {},
   "outputs": [
    {
     "name": "stdout",
     "output_type": "stream",
     "text": [
      " C 드라이브의 볼륨에는 이름이 없습니다.\n",
      " 볼륨 일련 번호: 1486-4E4B\n",
      "\n",
      " C:\\Users\\MS\\Documents\\github\\python\\practice 디렉터리\n",
      "\n",
      "2021-02-02  오전 11:26    <DIR>          .\n",
      "2021-02-02  오전 11:26    <DIR>          ..\n",
      "2021-02-02  오전 11:26    <DIR>          .ipynb_checkpoints\n",
      "2021-01-26  오후 05:23    <DIR>          data\n",
      "2021-01-26  오후 05:52             2,169 Font.ipynb\n",
      "2021-01-22  오후 01:56           119,815 PCA.ipynb\n",
      "               2개 파일             121,984 바이트\n",
      "               4개 디렉터리  176,196,870,144 바이트 남음\n"
     ]
    }
   ],
   "source": [
    "!dir"
   ]
  },
  {
   "cell_type": "code",
   "execution_count": 4,
   "metadata": {},
   "outputs": [
    {
     "name": "stderr",
     "output_type": "stream",
     "text": [
      "'jt'은(는) 내부 또는 외부 명령, 실행할 수 있는 프로그램, 또는\n",
      "배치 파일이 아닙니다.\n"
     ]
    }
   ],
   "source": [
    "!jt"
   ]
  },
  {
   "cell_type": "code",
   "execution_count": null,
   "metadata": {},
   "outputs": [],
   "source": []
  }
 ],
 "metadata": {
  "kernelspec": {
   "display_name": "Python 3",
   "language": "python",
   "name": "python3"
  },
  "language_info": {
   "codemirror_mode": {
    "name": "ipython",
    "version": 3
   },
   "file_extension": ".py",
   "mimetype": "text/x-python",
   "name": "python",
   "nbconvert_exporter": "python",
   "pygments_lexer": "ipython3",
   "version": "3.8.5"
  }
 },
 "nbformat": 4,
 "nbformat_minor": 4
}
